{
 "cells": [
  {
   "cell_type": "markdown",
   "id": "ab72f885",
   "metadata": {},
   "source": [
    "## Fitting S_E Mean to 0.164 using default RWW Parameters\n",
    "\n",
    "What is being modeled:\n",
    "* Created a Sphere'd Cube (chosen points on cube projected onto radius = 1 sphere), so that regions were more evently distributed. All corners of cube chosen as regions, thus there are 8 regions. \n",
    "* EEG channels located on the center of each face of the cube. Thus there are 6 EEG channels.\n",
    "* Added some randomness to initial values - to decorrelate the signals a bit. Looking for FC matrix to look similar to SC matrix.\n"
   ]
  },
  {
   "cell_type": "code",
   "execution_count": 1,
   "id": "37ecc50f",
   "metadata": {},
   "outputs": [],
   "source": [
    "from whobpyt.models import RNNJANSEN,ParamsJR,RNNWWD,RWW_Layer,RWW_Params,BOLD_Layer,BOLD_Params,EEG_Layer,EEG_Params,Jansen_Layer\n",
    "\n",
    "from whobpyt.objective import meanVariableLoss,powerSpectrumLoss,functionalConnectivityLoss\n",
    "\n",
    "from whobpyt.fit import Model_fitting"
   ]
  },
  {
   "cell_type": "code",
   "execution_count": 2,
   "id": "7e2267fd",
   "metadata": {},
   "outputs": [],
   "source": [
    "import torch\n",
    "import numpy as np\n",
    "import pandas as pd\n",
    "import seaborn as sns\n",
    "import matplotlib.pyplot as plt"
   ]
  },
  {
   "cell_type": "code",
   "execution_count": 3,
   "id": "58a9e142",
   "metadata": {},
   "outputs": [],
   "source": [
    "#############################################\n",
    "## Defining Model Parameters\n",
    "#############################################\n",
    "\n",
    "num_regions = 8\n",
    "num_channels = 6\n",
    "\n",
    "# Simulation Length\n",
    "step_size = 0.1 # Step Size in msecs\n",
    "sim_len = 2000 # Simulation length in msecs\n",
    "\n",
    "skip_trans = int(500/step_size)\n",
    "\n",
    "# Initial Conditions\n",
    "S_E = 0.6; S_I = 0.1; x = 0.0000; f = 2.4286; v = 1.3283; q = 0.6144 # x,f,v,q might be choosen for different initial S_E\n",
    "init_state = torch.tensor([[S_E, S_I, x, f, v, q]]).repeat(num_regions, 1)\n",
    "\n",
    "# Add randomness\n",
    "init_state = init_state + torch.randn_like(init_state)/30 # Randomizing initial values\n",
    "\n",
    "# Create a RWW Params\n",
    "paramsNode = RWW_Params(num_regions)\n",
    "\n",
    "#Create #EEG Params\n",
    "paramsEEG = EEG_Params(torch.eye(num_regions))\n",
    "\n",
    "#Create BOLD Params\n",
    "paramsBOLD = BOLD_Params()"
   ]
  },
  {
   "cell_type": "code",
   "execution_count": 4,
   "id": "b53457a2",
   "metadata": {},
   "outputs": [],
   "source": [
    "#############################################\n",
    "## Further Adjusting Parameters for Network\n",
    "#############################################\n",
    "\n",
    "paramsNode.J = torch.nn.Parameter(0.15  * torch.ones(num_regions)) #This is a parameter that will be updated during training\n"
   ]
  },
  {
   "cell_type": "code",
   "execution_count": 5,
   "id": "16ae38ac",
   "metadata": {},
   "outputs": [],
   "source": [
    "#############################################\n",
    "## Generating a physically possible (in 3D Space) Structural Connectivity Matrix\n",
    "#############################################\n",
    "\n",
    "# First, get corner points on a cube and project onto a sphere\n",
    "square_points = torch.tensor([[1.,1.,1.],\n",
    "                              [-1.,1.,1.],\n",
    "                              [1.,-1.,1.],\n",
    "                              [-1.,-1.,1.],\n",
    "                              [1.,1.,-1.],\n",
    "                              [-1.,1.,-1.],\n",
    "                              [1.,-1.,-1.],\n",
    "                              [-1.,-1.,-1.]])\n",
    "sphere_points = square_points / torch.sqrt(torch.sum(torch.square(square_points), axis = 1)).repeat(3, 1).t()\n",
    "\n",
    "# Second, find the distance between all pairs of points\n",
    "dist_mtx = torch.zeros(num_regions, num_regions)\n",
    "for x in range(num_regions):\n",
    "    for y in range(num_regions):\n",
    "        dist_mtx[x,y]= torch.linalg.norm(sphere_points[x,:] - sphere_points[y,:])\n",
    "\n",
    "# Third, Structural Connectivity defined to be 1/dist and remove self-connection values\n",
    "SC_mtx = 1/dist_mtx\n",
    "for z in range(num_regions):\n",
    "    SC_mtx[z,z] = 0.0\n",
    "\n",
    "# Fourth, Normalize the matrix\n",
    "SC_mtx_norm = (1/torch.linalg.matrix_norm(SC_mtx, ord = 2)) * SC_mtx\n",
    "Con_Mtx = SC_mtx_norm"
   ]
  },
  {
   "cell_type": "code",
   "execution_count": 6,
   "id": "5a45aae2",
   "metadata": {},
   "outputs": [
    {
     "name": "stdout",
     "output_type": "stream",
     "text": [
      "tensor(1.0000)\n"
     ]
    },
    {
     "data": {
      "text/plain": [
       "Text(0.5, 1.0, 'SC of Artificial Data')"
      ]
     },
     "execution_count": 6,
     "metadata": {},
     "output_type": "execute_result"
    },
    {
     "data": {
      "image/png": "[encoded data removed]",
      "text/plain": [
       "<Figure size 432x288 with 2 Axes>"
      ]
     },
     "metadata": {
      "needs_background": "light"
     },
     "output_type": "display_data"
    }
   ],
   "source": [
    "print(max(abs(torch.linalg.eig(SC_mtx_norm).eigenvalues)))\n",
    "mask = np.eye(num_regions)\n",
    "sns.heatmap(Con_Mtx, mask = mask, center=0, cmap='RdBu_r', vmin=-0.1, vmax = 0.25)\n",
    "plt.title(\"SC of Artificial Data\")"
   ]
  },
  {
   "cell_type": "code",
   "execution_count": 7,
   "id": "5b1e7675",
   "metadata": {},
   "outputs": [],
   "source": [
    "#############################################\n",
    "## Generating a Lead Field Matrix\n",
    "#############################################\n",
    "\n",
    "# Placing an EEG Electrode in the middle of each cube face. \n",
    "# Then electrode is equally distance from four courner on cube face squre.\n",
    "# Assume no signal from further four points. \n",
    "\n",
    "Lead_Field = torch.tensor([[1,1,0,0,1,1,0,0],\n",
    "                           [1,1,1,1,0,0,0,0],\n",
    "                           [0,1,0,1,0,1,0,1],\n",
    "                           [0,0,0,0,1,1,1,1],\n",
    "                           [1,0,1,0,1,0,1,0],\n",
    "                           [0,0,1,1,0,0,1,1]], dtype = torch.float)\n",
    "LF_Norm = (1/torch.linalg.matrix_norm(Lead_Field, ord = 2)) * Lead_Field\n",
    "\n",
    "paramsEEG.LF = LF_Norm"
   ]
  },
  {
   "cell_type": "code",
   "execution_count": 8,
   "id": "8c1e2e61",
   "metadata": {},
   "outputs": [],
   "source": [
    "#############################################\n",
    "## Generating a \"Connectivity Matrix\" for Channel Space\n",
    "#############################################\n",
    "\n",
    "## Generating a physically possible (in 3D Space) \"Channel\" Connectivity Matrix\n",
    "# That is a theoretical matrix for the EEG SC to be fit to\n",
    "\n",
    "# First, get face points on a cube and project onto a sphere\n",
    "LF_square_points = torch.tensor([[0.,1.,0.],\n",
    "                                 [0.,0.,1.],\n",
    "                                 [-1.,0.,0.],\n",
    "                                 [0.,0.,-1.],\n",
    "                                 [1.,0.,0.],\n",
    "                                 [0.,-1.,0.]])\n",
    "# Note: this does nothing as the points are already on the r=1 sphere\n",
    "LF_sphere_points = LF_square_points / torch.sqrt(torch.sum(torch.square(LF_square_points), axis = 1)).repeat(3, 1).t()\n",
    "\n",
    "\n",
    "# Second, find the distance between all pairs of channel points\n",
    "LF_dist_mtx = torch.zeros(num_channels, num_channels)\n",
    "for x in range(num_channels):\n",
    "    for y in range(num_channels):\n",
    "        LF_dist_mtx[x,y]= torch.linalg.norm(LF_sphere_points[x,:] - LF_sphere_points[y,:])\n",
    "\n",
    "# Third, Structural Connectivity defined to be 1/dist and remove self-connection values\n",
    "LF_SC_mtx = 1/LF_dist_mtx\n",
    "for z in range(num_channels):\n",
    "    LF_SC_mtx[z,z] = 0.0\n",
    "\n",
    "# Fourth, Normalize the matrix\n",
    "LF_SC_mtx_norm = (1/torch.linalg.matrix_norm(LF_SC_mtx, ord = 2)) * LF_SC_mtx\n",
    "LF_Con_Mtx = LF_SC_mtx_norm"
   ]
  },
  {
   "cell_type": "markdown",
   "id": "3d683ee4",
   "metadata": {},
   "source": [
    "## Defining the CNMM Model"
   ]
  },
  {
   "cell_type": "code",
   "execution_count": 9,
   "id": "5b161a13",
   "metadata": {},
   "outputs": [],
   "source": [
    "## The Multi-Modal Model\n",
    "\n",
    "class mmModel(torch.nn.Module):\n",
    "    def __init__(self):\n",
    "        super(mmModel, self).__init__()\n",
    "        \n",
    "        self.nodes = RWW_Layer(num_regions, paramsNode, Con_Mtx, dist_mtx)\n",
    "        self.eeg = EEG_Layer(num_regions, paramsEEG, num_channels)\n",
    "        self.bold = BOLD_Layer(num_regions, paramsBOLD)\n",
    "        \n",
    "        self.next_start_state = init_state\n",
    "        \n",
    "    def forward(self, debug = False):\n",
    "        \n",
    "        self.step_size = step_size #in msec\n",
    "        self.sim_len = sim_len #in msec\n",
    "        \n",
    "        node_states, node_history = self.nodes.forward(self.next_start_state[:, 0:2], self.step_size, self.sim_len, debug = debug)\n",
    "        EEG_history = self.eeg.forward(self.step_size, self.sim_len, node_history)\n",
    "        BOLD_states, BOLD_history = self.bold.forward(self.next_start_state[:, 2:6], self.step_size, self.sim_len, node_history[:,:,0])\n",
    "\n",
    "        self.next_start_state = torch.cat((node_states, BOLD_states), dim=1).detach()\n",
    "        \n",
    "        return node_history, EEG_history, BOLD_history\n",
    "        "
   ]
  },
  {
   "cell_type": "markdown",
   "id": "da686de3",
   "metadata": {},
   "source": [
    "## Defining the Objective Function"
   ]
  },
  {
   "cell_type": "code",
   "execution_count": 10,
   "id": "a718293d",
   "metadata": {},
   "outputs": [],
   "source": [
    "## Written in such as way as to be able to adjust the relative importance of components that make up the objective function.\n",
    "## Also, written in such a way as to be able to track and plot indiviual components losses over time. \n",
    "\n",
    "class objectiveFunction():\n",
    "    def __init__(self):\n",
    "        # Weights of Objective Function Components\n",
    "        self.S_E_mean_weight = 1\n",
    "        self.S_I_mean_weight = 0 # Not Currently Used\n",
    "        self.EEG_PSD_weight = 0 # Not Currently Used\n",
    "        self.EEG_FC_weight = 0 # Not Currently Used\n",
    "        self.BOLD_PSD_weight = 0 # Not Currently Used\n",
    "        self.BOLD_FC_weight = 0 # Not Currently Used\n",
    "        \n",
    "        # Functions of the various Objective Function Components\n",
    "        self.S_E_mean = meanVariableLoss(num_regions, varIdx = 0, targetValue = torch.tensor([0.164]))\n",
    "        #self.S_I_mean = meanVariableLoss(...) # Not Currently Used\n",
    "        #self.EEG_PSD = powerSpectrumLoss(num_channels, varIdx = 0, sampleFreqHz = 1000*(1/step_size), targetValue = targetEEG)\n",
    "        #self.EEG_FC = functionalConnectivityLoss(...) # Not Currently Used\n",
    "        #self.BOLD_PSD = powerSpectrumLoss(...) # Not Currently Used\n",
    "        #self.BOLD_FC = functionalConnectivityLoss(num_regions, varIdx = 4, targetValue = SC_mtx_norm)\n",
    "                \n",
    "    def calcTotalLoss(self, node_history, EEG_history, BOLD_history, returnLossComponents = False):\n",
    "        \n",
    "        S_E_mean_loss = self.S_E_mean.calcLoss(node_history) \n",
    "        S_I_mean_loss = torch.tensor([0]) #self.S_I_mean.calcLoss(node_history)\n",
    "        EEG_PSD_loss = torch.tensor([0]) #self.EEG_PSD.calcLoss(EEG_history) \n",
    "        EEG_FC_loss = torch.tensor([0]) #self.EEG_FC.calcLoss(EEG_history)\n",
    "        BOLD_PSD_loss = torch.tensor([0]) #self.BOLD_PS.calcLoss(BOLD_history)\n",
    "        BOLD_FC_loss = torch.tensor([0]) #self.BOLD_FC.calcLoss(BOLD_history)\n",
    "                \n",
    "        totalLoss = self.S_E_mean_weight*S_E_mean_loss + self.S_I_mean_weight*S_I_mean_loss \\\n",
    "                  + self.EEG_PSD_weight*EEG_PSD_loss   + self.EEG_FC_weight*EEG_FC_loss \\\n",
    "                  + self.BOLD_PSD_weight*BOLD_PSD_loss + self.BOLD_FC_weight*BOLD_FC_loss\n",
    "                 \n",
    "        if returnLossComponents:\n",
    "            return totalLoss, (S_E_mean_loss.item(), S_I_mean_loss.item(), EEG_PSD_loss.item(), EEG_FC_loss.item(), BOLD_PSD_loss.item(), BOLD_FC_loss.item())\n",
    "        else:\n",
    "            return totalLoss"
   ]
  },
  {
   "cell_type": "markdown",
   "id": "db7a4ecb",
   "metadata": {},
   "source": [
    "## Training The Model"
   ]
  },
  {
   "cell_type": "code",
   "execution_count": 11,
   "id": "118075ab",
   "metadata": {},
   "outputs": [],
   "source": [
    "model = mmModel()\n",
    "TotalLossFn = objectiveFunction()"
   ]
  },
  {
   "cell_type": "code",
   "execution_count": 12,
   "id": "161ff80d",
   "metadata": {},
   "outputs": [
    {
     "name": "stdout",
     "output_type": "stream",
     "text": [
      "[('nodes.J', Parameter containing:\n",
      "tensor([0.1500, 0.1500, 0.1500, 0.1500, 0.1500, 0.1500, 0.1500, 0.1500],\n",
      "       requires_grad=True))]\n"
     ]
    }
   ],
   "source": [
    "print(list(model.named_parameters()))"
   ]
  },
  {
   "cell_type": "code",
   "execution_count": 13,
   "id": "a81f0cdf",
   "metadata": {},
   "outputs": [],
   "source": [
    "optimizer = torch.optim.Adam(model.parameters(), lr = 0.1)"
   ]
  },
  {
   "cell_type": "code",
   "execution_count": null,
   "id": "88ebd2c3",
   "metadata": {},
   "outputs": [
    {
     "name": "stdout",
     "output_type": "stream",
     "text": [
      "0\n",
      "totalLoss =  0.4572409689426422\n",
      "J values =  [0.24999991 0.24999991 0.24999991 0.24999991 0.24999991 0.24999991\n",
      " 0.24999991 0.24999991]\n",
      "1\n",
      "totalLoss =  0.4482676386833191\n",
      "J values =  [0.3501304  0.35012513 0.35012847 0.3501284  0.35013446 0.35011512\n",
      " 0.35012352 0.3501249 ]\n",
      "2\n",
      "totalLoss =  0.4373720586299896\n",
      "J values =  [0.45047772 0.45046717 0.4504768  0.45046782 0.4504814  0.45045224\n",
      " 0.4504627  0.4504643 ]\n",
      "3\n",
      "totalLoss =  0.4283933937549591\n",
      "J values =  [0.5511197  0.55110955 0.5511268  0.55110645 0.5511193  0.55108213\n",
      " 0.5511043  0.55110466]\n",
      "4\n",
      "totalLoss =  0.4160183370113373\n",
      "J values =  [0.65215874 0.65214735 0.65217376 0.652137   0.65216064 0.6521098\n",
      " 0.6521405  0.6521345 ]\n",
      "5\n",
      "totalLoss =  0.4009648561477661\n",
      "J values =  [0.7536852  0.75367486 0.75371367 0.75365853 0.75368416 0.7536293\n",
      " 0.7536632  0.75365454]\n",
      "6\n",
      "totalLoss =  0.3889661431312561\n",
      "J values =  [0.8557833  0.8557471  0.8558181  0.85574996 0.85577464 0.8557192\n",
      " 0.8557577  0.8557451 ]\n",
      "7\n",
      "totalLoss =  0.37098708748817444\n",
      "J values =  [0.9585385 0.9584819 0.9585776 0.9584995 0.9585235 0.9584685 0.9585103\n",
      " 0.9584937]\n",
      "8\n",
      "totalLoss =  0.3501567542552948\n",
      "J values =  [1.0620227 1.061949  1.062066  1.0619807 1.0620049 1.0619495 1.0619932\n",
      " 1.0619745]\n",
      "9\n",
      "totalLoss =  0.3291341960430145\n",
      "J values =  [1.1662928 1.1662033 1.1663406 1.166251  1.1662748 1.1662167 1.1662618\n",
      " 1.1662443]\n",
      "10\n",
      "totalLoss =  0.3054114580154419\n",
      "J values =  [1.2713808 1.2712748 1.2714368 1.2713411 1.2713642 1.2713009 1.2713499\n",
      " 1.2713381]\n",
      "11\n",
      "totalLoss =  0.2736385762691498\n",
      "J values =  [1.3772256 1.3771021 1.3772936 1.3771929 1.3772177 1.3771538 1.3771992\n",
      " 1.3771933]\n",
      "12\n",
      "totalLoss =  0.23602402210235596\n"
     ]
    }
   ],
   "source": [
    "LossComp = list()\n",
    "\n",
    "J_values = list()\n",
    "\n",
    "epochs = 20\n",
    "\n",
    "for i in range(epochs):\n",
    "    print(i)\n",
    "    \n",
    "    node_history, EEG_history, BOLD_history = model.forward()\n",
    "    totalLoss, lossComponents = TotalLossFn.calcTotalLoss(node_history[skip_trans:,:,:], EEG_history[skip_trans:,:,:], BOLD_history[skip_trans:,:,:], returnLossComponents = True)\n",
    "    print(\"totalLoss = \", totalLoss.item())\n",
    "    \n",
    "    optimizer.zero_grad()\n",
    "    totalLoss.backward()\n",
    "    optimizer.step()\n",
    "    \n",
    "    LossComp.append(lossComponents)\n",
    "    J_values.append(model.nodes.J.detach().clone().numpy())\n",
    "\n",
    "    \n",
    "    print(\"J values = \", model.nodes.J.detach().clone().numpy())\n"
   ]
  },
  {
   "cell_type": "code",
   "execution_count": null,
   "id": "1c20fac7",
   "metadata": {},
   "outputs": [],
   "source": [
    "plt.plot(LossComp)\n",
    "plt.title(\"Total Loss over Training Epochs\")"
   ]
  },
  {
   "cell_type": "code",
   "execution_count": null,
   "id": "142447b5",
   "metadata": {},
   "outputs": [],
   "source": [
    "plt.plot(J_values)\n",
    "plt.title(\"J_{i} Values Changing Over Training Epochs\")"
   ]
  },
  {
   "cell_type": "markdown",
   "id": "815cb705",
   "metadata": {},
   "source": [
    "### Plots of S_E and S_I After Training"
   ]
  },
  {
   "cell_type": "code",
   "execution_count": null,
   "id": "bd461194",
   "metadata": {},
   "outputs": [],
   "source": [
    "plt.figure(figsize = (16, 8))\n",
    "plt.title(\"S_E and S_I\")\n",
    "for n in range(num_regions):\n",
    "    plt.plot(node_history.detach()[:,n,0], label = \"S_E Node = \" + str(n))\n",
    "    plt.plot(node_history.detach()[:,n,1], label = \"S_I Node = \" + str(n))\n",
    "\n",
    "plt.xlabel('Time Steps (multiply by step_size to get msec), step_size = ' + str(step_size))\n",
    "plt.legend()"
   ]
  },
  {
   "cell_type": "markdown",
   "id": "d12ed029",
   "metadata": {},
   "source": [
    "### Plots of EEG PSD"
   ]
  },
  {
   "cell_type": "code",
   "execution_count": null,
   "id": "e8cfeae2",
   "metadata": {},
   "outputs": [],
   "source": [
    "sampleFreqHz = 1000*(1/step_size)\n",
    "sdAxis, sdValues = powerSpectrumLoss.calcPSD(EEG_history[skip_trans:,:,0], sampleFreqHz, minFreq = 2, maxFreq = 40)\n",
    "sdAxis_dS, sdValues_dS = powerSpectrumLoss.downSmoothPSD(sdAxis, sdValues, 32)\n",
    "sdAxis_dS, sdValues_dS_scaled = powerSpectrumLoss.scalePSD(sdAxis_dS, sdValues_dS)\n",
    "\n",
    "plt.figure()\n",
    "plt.plot(sdAxis_dS, sdValues_dS_scaled.detach())\n",
    "plt.xlabel('Hz')\n",
    "plt.ylabel('PSD')\n",
    "plt.title(\"Simulated EEG PSD: After Training\")"
   ]
  },
  {
   "cell_type": "markdown",
   "id": "24b48e87",
   "metadata": {},
   "source": [
    "### Plots of BOLD FC"
   ]
  },
  {
   "cell_type": "code",
   "execution_count": null,
   "id": "ccc34ad8",
   "metadata": {},
   "outputs": [],
   "source": [
    "print(BOLD_history[skip_trans:, :, 4].shape)\n",
    "sim_FC = functionalConnectivityLoss.calcFC(BOLD_history[:, :, 4]).detach()\n",
    "\n",
    "plt.figure(figsize = (8, 8))\n",
    "plt.title(\"Simulated BOLD FC: After Training\")\n",
    "mask = np.eye(num_regions)\n",
    "sns.heatmap(sim_FC, mask = mask, center=0, cmap='RdBu_r', vmin=-1.0, vmax = 1.0)"
   ]
  }
 ],
 "metadata": {
  "kernelspec": {
   "display_name": "Python 3 (ipykernel)",
   "language": "python",
   "name": "python3"
  },
  "language_info": {
   "codemirror_mode": {
    "name": "ipython",
    "version": 3
   },
   "file_extension": ".py",
   "mimetype": "text/x-python",
   "name": "python",
   "nbconvert_exporter": "python",
   "pygments_lexer": "ipython3",
   "version": "3.9.12"
  }
 },
 "nbformat": 4,
 "nbformat_minor": 5
}
