{
 "cells": [
  {
   "cell_type": "markdown",
   "id": "2f778365",
   "metadata": {},
   "source": [
    "## Fitting S_E Mean to 0.164 using default RWW Parameters\n",
    "\n",
    "What is being modeled:\n",
    "* Created a Sphere'd Cube (chosen points on cube projected onto radius = 1 sphere), so that regions were more evently distributed. All corners of cube chosen as regions, thus there are 8 regions. \n",
    "* EEG channels located on the center of each face of the cube. Thus there are 6 EEG channels.\n",
    "* Added some randomness to initial values - to decorrelate the signals a bit. Looking for FC matrix to look similar to SC matrix.\n",
    "\n",
    "\n",
    "## Was able to run 30 seconds of simulation with backward graph!\n",
    "\n",
    "That is, it was able to run 30 seconds of simulation mostly in RAM (SSD was running a bit) vs. before about 2-3 second could be run in 16 GB RAM laptop (but with the additional Objective Function Running, and not wiping sim results at end of loop). \n",
    "\n",
    "However, it has to be done in 300 chunks of 0.1 seconds in parallel. This will impact learning ability. Also, will require an initial pass of forward function without gradients to find the 300 initial conditions.\n",
    "\n",
    "So basically, a 10x decrease in RAM usage (might also be helped wiping memory on each loop, and not running Objective Function). That said, based on other tests I did the memory benefit might not be as great for larger networks with more nodes - possibly because the tensors would already be a bigger size. \n",
    "\n",
    "UPDATE: Actually I think i was running 300 chunks of 1 seconds!\n",
    "\n",
    "\n",
    "## Next to show running in blocks produce same as running in series\n",
    "\n",
    "Done, with success!\n",
    "\n",
    "\n"
   ]
  },
  {
   "cell_type": "code",
   "execution_count": 1,
   "id": "4f89fac9",
   "metadata": {},
   "outputs": [],
   "source": [
    "from whobpyt.models import RNNJANSEN,ParamsJR,RNNWWD,RWW_Layer,RWW_Params,BOLD_Layer,BOLD_Params,EEG_Layer,EEG_Params,Jansen_Layer\n",
    "\n",
    "from whobpyt.objective import meanVariableLoss,powerSpectrumLoss,functionalConnectivityLoss\n",
    "\n",
    "from whobpyt.fit import Model_fitting"
   ]
  },
  {
   "cell_type": "code",
   "execution_count": 2,
   "id": "5abff038",
   "metadata": {},
   "outputs": [],
   "source": [
    "import torch\n",
    "import numpy as np\n",
    "import pandas as pd\n",
    "import seaborn as sns\n",
    "import matplotlib.pyplot as plt\n",
    "import os\n",
    "import psutil"
   ]
  },
  {
   "cell_type": "code",
   "execution_count": 3,
   "id": "05a4577f",
   "metadata": {},
   "outputs": [],
   "source": [
    "ps = psutil.Process(os.getpid())"
   ]
  },
  {
   "cell_type": "code",
   "execution_count": 4,
   "id": "f53a2d99",
   "metadata": {},
   "outputs": [],
   "source": [
    "#############################################\n",
    "## Defining Model Parameters\n",
    "#############################################\n",
    "\n",
    "num_regions = 8\n",
    "num_channels = 6\n",
    "\n",
    "# Simulation Length\n",
    "step_size = 0.1 # Step Size in msecs\n",
    "sim_len = 200 # Simulation length in msecs\n",
    "sim_dim = 5\n",
    "\n",
    "skip_trans = int(500/step_size)\n",
    "\n",
    "# Initial Conditions\n",
    "S_E = 0.6; S_I = 0.1; x = 0.0000; f = 2.4286; v = 1.3283; q = 0.6144 # x,f,v,q might be choosen for different initial S_E\n",
    "init_state = torch.tensor([[S_E], [S_I], [x], [f], [v], [q]]).repeat(num_regions, 1, sim_dim)\n",
    "\n",
    "# Add randomness\n",
    "#init_state = init_state + torch.randn_like(init_state)/30 # Randomizing initial values\n",
    "\n",
    "# Create a RWW Params\n",
    "paramsNode = RWW_Params(num_regions)\n",
    "\n",
    "#Create #EEG Params\n",
    "paramsEEG = EEG_Params(torch.eye(num_regions))\n",
    "\n",
    "#Create BOLD Params\n",
    "paramsBOLD = BOLD_Params()"
   ]
  },
  {
   "cell_type": "code",
   "execution_count": 5,
   "id": "9ed8888c",
   "metadata": {},
   "outputs": [
    {
     "data": {
      "text/plain": [
       "torch.Size([8, 6, 5])"
      ]
     },
     "execution_count": 5,
     "metadata": {},
     "output_type": "execute_result"
    }
   ],
   "source": [
    "init_state.shape"
   ]
  },
  {
   "cell_type": "code",
   "execution_count": 6,
   "id": "dcf7b992",
   "metadata": {},
   "outputs": [],
   "source": [
    "#############################################\n",
    "## Further Adjusting Parameters for Network\n",
    "#############################################\n",
    "\n",
    "paramsNode.J = torch.nn.Parameter(0.15  * torch.ones(num_regions,1)) #This is a parameter that will be updated during training\n"
   ]
  },
  {
   "cell_type": "code",
   "execution_count": 7,
   "id": "5f7fff1f",
   "metadata": {},
   "outputs": [
    {
     "data": {
      "text/plain": [
       "torch.Size([8, 1])"
      ]
     },
     "execution_count": 7,
     "metadata": {},
     "output_type": "execute_result"
    }
   ],
   "source": [
    "paramsNode.J.shape"
   ]
  },
  {
   "cell_type": "code",
   "execution_count": 8,
   "id": "ba1c59d3",
   "metadata": {},
   "outputs": [],
   "source": [
    "#############################################\n",
    "## Generating a physically possible (in 3D Space) Structural Connectivity Matrix\n",
    "#############################################\n",
    "\n",
    "# First, get corner points on a cube and project onto a sphere\n",
    "square_points = torch.tensor([[1.,1.,1.],\n",
    "                              [-1.,1.,1.],\n",
    "                              [1.,-1.,1.],\n",
    "                              [-1.,-1.,1.],\n",
    "                              [1.,1.,-1.],\n",
    "                              [-1.,1.,-1.],\n",
    "                              [1.,-1.,-1.],\n",
    "                              [-1.,-1.,-1.]])\n",
    "sphere_points = square_points / torch.sqrt(torch.sum(torch.square(square_points), axis = 1)).repeat(3, 1).t()\n",
    "\n",
    "# Second, find the distance between all pairs of points\n",
    "dist_mtx = torch.zeros(num_regions, num_regions)\n",
    "for x in range(num_regions):\n",
    "    for y in range(num_regions):\n",
    "        dist_mtx[x,y]= torch.linalg.norm(sphere_points[x,:] - sphere_points[y,:])\n",
    "\n",
    "# Third, Structural Connectivity defined to be 1/dist and remove self-connection values\n",
    "SC_mtx = 1/dist_mtx\n",
    "for z in range(num_regions):\n",
    "    SC_mtx[z,z] = 0.0\n",
    "\n",
    "# Fourth, Normalize the matrix\n",
    "SC_mtx_norm = (1/torch.linalg.matrix_norm(SC_mtx, ord = 2)) * SC_mtx\n",
    "Con_Mtx = SC_mtx_norm"
   ]
  },
  {
   "cell_type": "code",
   "execution_count": 9,
   "id": "0b15143a",
   "metadata": {},
   "outputs": [
    {
     "name": "stdout",
     "output_type": "stream",
     "text": [
      "tensor(1.0000)\n"
     ]
    },
    {
     "data": {
      "text/plain": [
       "Text(0.5, 1.0, 'SC of Artificial Data')"
      ]
     },
     "execution_count": 9,
     "metadata": {},
     "output_type": "execute_result"
    },
    {
     "data": {
      "image/png": "[encoded data removed]",
      "text/plain": [
       "<Figure size 432x288 with 2 Axes>"
      ]
     },
     "metadata": {
      "needs_background": "light"
     },
     "output_type": "display_data"
    }
   ],
   "source": [
    "print(max(abs(torch.linalg.eig(SC_mtx_norm).eigenvalues)))\n",
    "mask = np.eye(num_regions)\n",
    "sns.heatmap(Con_Mtx, mask = mask, center=0, cmap='RdBu_r', vmin=-0.1, vmax = 0.25)\n",
    "plt.title(\"SC of Artificial Data\")"
   ]
  },
  {
   "cell_type": "code",
   "execution_count": 10,
   "id": "37a9f859",
   "metadata": {},
   "outputs": [],
   "source": [
    "#############################################\n",
    "## Generating a Lead Field Matrix\n",
    "#############################################\n",
    "\n",
    "# Placing an EEG Electrode in the middle of each cube face. \n",
    "# Then electrode is equally distance from four courner on cube face squre.\n",
    "# Assume no signal from further four points. \n",
    "\n",
    "Lead_Field = torch.tensor([[1,1,0,0,1,1,0,0],\n",
    "                           [1,1,1,1,0,0,0,0],\n",
    "                           [0,1,0,1,0,1,0,1],\n",
    "                           [0,0,0,0,1,1,1,1],\n",
    "                           [1,0,1,0,1,0,1,0],\n",
    "                           [0,0,1,1,0,0,1,1]], dtype = torch.float)\n",
    "LF_Norm = (1/torch.linalg.matrix_norm(Lead_Field, ord = 2)) * Lead_Field\n",
    "\n",
    "paramsEEG.LF = LF_Norm"
   ]
  },
  {
   "cell_type": "code",
   "execution_count": 11,
   "id": "a0b619ba",
   "metadata": {},
   "outputs": [],
   "source": [
    "#############################################\n",
    "## Generating a \"Connectivity Matrix\" for Channel Space\n",
    "#############################################\n",
    "\n",
    "## Generating a physically possible (in 3D Space) \"Channel\" Connectivity Matrix\n",
    "# That is a theoretical matrix for the EEG SC to be fit to\n",
    "\n",
    "# First, get face points on a cube and project onto a sphere\n",
    "LF_square_points = torch.tensor([[0.,1.,0.],\n",
    "                                 [0.,0.,1.],\n",
    "                                 [-1.,0.,0.],\n",
    "                                 [0.,0.,-1.],\n",
    "                                 [1.,0.,0.],\n",
    "                                 [0.,-1.,0.]])\n",
    "# Note: this does nothing as the points are already on the r=1 sphere\n",
    "LF_sphere_points = LF_square_points / torch.sqrt(torch.sum(torch.square(LF_square_points), axis = 1)).repeat(3, 1).t()\n",
    "\n",
    "\n",
    "# Second, find the distance between all pairs of channel points\n",
    "LF_dist_mtx = torch.zeros(num_channels, num_channels)\n",
    "for x in range(num_channels):\n",
    "    for y in range(num_channels):\n",
    "        LF_dist_mtx[x,y]= torch.linalg.norm(LF_sphere_points[x,:] - LF_sphere_points[y,:])\n",
    "\n",
    "# Third, Structural Connectivity defined to be 1/dist and remove self-connection values\n",
    "LF_SC_mtx = 1/LF_dist_mtx\n",
    "for z in range(num_channels):\n",
    "    LF_SC_mtx[z,z] = 0.0\n",
    "\n",
    "# Fourth, Normalize the matrix\n",
    "LF_SC_mtx_norm = (1/torch.linalg.matrix_norm(LF_SC_mtx, ord = 2)) * LF_SC_mtx\n",
    "LF_Con_Mtx = LF_SC_mtx_norm"
   ]
  },
  {
   "cell_type": "markdown",
   "id": "8ef6de4e",
   "metadata": {},
   "source": [
    "## Functions for \"Parallization\""
   ]
  },
  {
   "cell_type": "code",
   "execution_count": 12,
   "id": "10af2d91",
   "metadata": {},
   "outputs": [],
   "source": [
    "def blockTS(data, blocks, numNodes, numSV):\n",
    "    # data: time x nodes x state_variables\n",
    "    # return: time x nodes x state_variables x blocks\n",
    "    \n",
    "    n = torch.numel(data)\n",
    "    \n",
    "    if (not (n%blocks == 0)):\n",
    "        print(\"ERROR: data is not divisable by blocks\")\n",
    "        return \n",
    "    \n",
    "    newTimeDim = int(n/(blocks*numNodes*numSV))\n",
    "    \n",
    "    data_p = data.permute((2,1,0)) # state_vars x nodes x time\n",
    "    data_r = torch.reshape(data_p, (numSV, numNodes, blocks, newTimeDim))\n",
    "    data_p2 = data_r.permute((3, 1, 0, 2))\n",
    "    \n",
    "    return data_p2\n",
    "    \n",
    "    \n",
    "def serializeTS(data, numNodes, numSV):\n",
    "    # data: time x nodes x state_variables x blocks\n",
    "    # return: time x nodes x state_variables\n",
    "\n",
    "    n = torch.numel(data)\n",
    "    newTimeDim = int(n/(numNodes*numSV))\n",
    "    \n",
    "    data_p = data.permute((2,1,3,0))\n",
    "    data_r = torch.reshape(data_p, (numSV, numNodes, newTimeDim))\n",
    "    data_p2 = data_r.permute((2,1,0))\n",
    "    \n",
    "    return data_p2\n",
    "    "
   ]
  },
  {
   "cell_type": "markdown",
   "id": "86ccf617",
   "metadata": {},
   "source": [
    "## Defining the CNMM Model"
   ]
  },
  {
   "cell_type": "code",
   "execution_count": 13,
   "id": "97aa7c0b",
   "metadata": {},
   "outputs": [],
   "source": [
    "## The Multi-Modal Model\n",
    "\n",
    "class mmModel(torch.nn.Module):\n",
    "    def __init__(self):\n",
    "        super(mmModel, self).__init__()\n",
    "        \n",
    "        self.nodes = RWW_Layer(num_regions, sim_dim, paramsNode, Con_Mtx, dist_mtx, step_size)\n",
    "        self.eeg = EEG_Layer(num_regions, sim_dim, paramsEEG, num_channels)\n",
    "        self.bold = BOLD_Layer(num_regions, sim_dim, paramsBOLD)\n",
    "        \n",
    "        self.next_start_state = init_state\n",
    "        \n",
    "    def forward(self, sim_len, v_of_T, debug = False):\n",
    "        \n",
    "        self.step_size = step_size #in msec\n",
    "        self.sim_len = sim_len #in msec\n",
    "        \n",
    "        node_states, node_history = self.nodes.forward(self.next_start_state[:, 0:2, :], self.sim_len, v_of_T, debug = debug)\n",
    "        EEG_history = self.eeg.forward(self.step_size, self.sim_len, node_history)\n",
    "        BOLD_states, BOLD_history = self.bold.forward(self.next_start_state[:, 2:6, :], self.step_size, self.sim_len, node_history[:,:,0,:])\n",
    "        \n",
    "        print(node_states.shape)\n",
    "        print(BOLD_states.shape)\n",
    "        \n",
    "        self.next_start_state = torch.cat((node_states, BOLD_states), dim=1).detach()\n",
    "        \n",
    "        return node_history, EEG_history, BOLD_history"
   ]
  },
  {
   "cell_type": "markdown",
   "id": "c662ef29",
   "metadata": {},
   "source": [
    "## Defining the Objective Function"
   ]
  },
  {
   "cell_type": "code",
   "execution_count": 14,
   "id": "49a40f2e",
   "metadata": {},
   "outputs": [],
   "source": [
    "## Written in such as way as to be able to adjust the relative importance of components that make up the objective function.\n",
    "## Also, written in such a way as to be able to track and plot indiviual components losses over time. \n",
    "\n",
    "class objectiveFunction():\n",
    "    def __init__(self):\n",
    "        # Weights of Objective Function Components\n",
    "        self.S_E_mean_weight = 1\n",
    "        self.S_I_mean_weight = 0 # Not Currently Used\n",
    "        self.EEG_PSD_weight = 0 # Not Currently Used\n",
    "        self.EEG_FC_weight = 0 # Not Currently Used\n",
    "        self.BOLD_PSD_weight = 0 # Not Currently Used\n",
    "        self.BOLD_FC_weight = 0 # Not Currently Used\n",
    "        \n",
    "        # Functions of the various Objective Function Components\n",
    "        self.S_E_mean = meanVariableLoss(num_regions, varIdx = 0, targetValue = torch.tensor([0.164]))\n",
    "        #self.S_I_mean = meanVariableLoss(...) # Not Currently Used\n",
    "        #self.EEG_PSD = powerSpectrumLoss(num_channels, varIdx = 0, sampleFreqHz = 1000*(1/step_size), targetValue = targetEEG)\n",
    "        #self.EEG_FC = functionalConnectivityLoss(...) # Not Currently Used\n",
    "        #self.BOLD_PSD = powerSpectrumLoss(...) # Not Currently Used\n",
    "        #self.BOLD_FC = functionalConnectivityLoss(num_regions, varIdx = 4, targetValue = SC_mtx_norm)\n",
    "                \n",
    "    def calcTotalLoss(self, node_history, EEG_history, BOLD_history, returnLossComponents = False):\n",
    "        \n",
    "        S_E_mean_loss = self.S_E_mean.calcLoss(node_history) \n",
    "        S_I_mean_loss = torch.tensor([0]) #self.S_I_mean.calcLoss(node_history)\n",
    "        EEG_PSD_loss = torch.tensor([0]) #self.EEG_PSD.calcLoss(EEG_history) \n",
    "        EEG_FC_loss = torch.tensor([0]) #self.EEG_FC.calcLoss(EEG_history)\n",
    "        BOLD_PSD_loss = torch.tensor([0]) #self.BOLD_PS.calcLoss(BOLD_history)\n",
    "        BOLD_FC_loss = torch.tensor([0]) #self.BOLD_FC.calcLoss(BOLD_history)\n",
    "                \n",
    "        totalLoss = self.S_E_mean_weight*S_E_mean_loss + self.S_I_mean_weight*S_I_mean_loss \\\n",
    "                  + self.EEG_PSD_weight*EEG_PSD_loss   + self.EEG_FC_weight*EEG_FC_loss \\\n",
    "                  + self.BOLD_PSD_weight*BOLD_PSD_loss + self.BOLD_FC_weight*BOLD_FC_loss\n",
    "                 \n",
    "        if returnLossComponents:\n",
    "            return totalLoss, (S_E_mean_loss.item(), S_I_mean_loss.item(), EEG_PSD_loss.item(), EEG_FC_loss.item(), BOLD_PSD_loss.item(), BOLD_FC_loss.item())\n",
    "        else:\n",
    "            return totalLoss"
   ]
  },
  {
   "cell_type": "markdown",
   "id": "50122037",
   "metadata": {},
   "source": [
    "## Training The Model"
   ]
  },
  {
   "cell_type": "code",
   "execution_count": 15,
   "id": "6e1d3cdd",
   "metadata": {},
   "outputs": [],
   "source": [
    "model = mmModel()\n",
    "TotalLossFn = objectiveFunction()"
   ]
  },
  {
   "cell_type": "code",
   "execution_count": 16,
   "id": "9d4f938c",
   "metadata": {},
   "outputs": [],
   "source": [
    "v_of_T_block = torch.normal(0,1,size = (len(torch.arange(0, sim_len, step_size)), num_regions, sim_dim))"
   ]
  },
  {
   "cell_type": "code",
   "execution_count": 17,
   "id": "aa5cc4c8",
   "metadata": {},
   "outputs": [
    {
     "data": {
      "text/plain": [
       "torch.Size([2000, 8, 5])"
      ]
     },
     "execution_count": 17,
     "metadata": {},
     "output_type": "execute_result"
    }
   ],
   "source": [
    "v_of_T_block.shape"
   ]
  },
  {
   "cell_type": "code",
   "execution_count": 18,
   "id": "73091a32",
   "metadata": {},
   "outputs": [],
   "source": [
    "v_of_T_serial = serializeTS(torch.unsqueeze(v_of_T_block, dim = 2), num_regions, 1)"
   ]
  },
  {
   "cell_type": "code",
   "execution_count": 19,
   "id": "38b52553",
   "metadata": {},
   "outputs": [
    {
     "data": {
      "text/plain": [
       "torch.Size([10000, 8, 1])"
      ]
     },
     "execution_count": 19,
     "metadata": {},
     "output_type": "execute_result"
    }
   ],
   "source": [
    "v_of_T_serial.shape"
   ]
  },
  {
   "cell_type": "code",
   "execution_count": 20,
   "id": "7f9c6fe5",
   "metadata": {},
   "outputs": [
    {
     "data": {
      "text/plain": [
       "True"
      ]
     },
     "execution_count": 20,
     "metadata": {},
     "output_type": "execute_result"
    }
   ],
   "source": [
    "torch.equal(v_of_T_serial[0:2000,:,0], v_of_T_block[:,:,0])"
   ]
  },
  {
   "cell_type": "code",
   "execution_count": 21,
   "id": "a9efd3ba",
   "metadata": {},
   "outputs": [
    {
     "data": {
      "text/plain": [
       "True"
      ]
     },
     "execution_count": 21,
     "metadata": {},
     "output_type": "execute_result"
    }
   ],
   "source": [
    "torch.equal(v_of_T_serial[2000:4000,:,0], v_of_T_block[:,:,1])"
   ]
  },
  {
   "cell_type": "code",
   "execution_count": 22,
   "id": "ee69aea0",
   "metadata": {},
   "outputs": [
    {
     "data": {
      "text/plain": [
       "tensor([[ 6.3987e-01, -3.6490e-01, -2.0718e-02,  ...,  9.5842e-01,\n",
       "         -1.1624e+00,  3.8418e-01],\n",
       "        [ 1.7670e+00, -6.1274e-01,  3.5758e-01,  ...,  1.8215e+00,\n",
       "          7.0035e-01, -1.6711e+00],\n",
       "        [-4.0962e-01, -6.3379e-01, -2.3351e-01,  ...,  2.1916e-01,\n",
       "          7.4374e-04,  1.2014e+00],\n",
       "        ...,\n",
       "        [ 5.8479e-01, -1.4565e-01, -1.7059e-01,  ...,  1.7420e+00,\n",
       "          9.7798e-02,  1.6235e-01],\n",
       "        [-5.3237e-01, -2.1945e+00,  1.7367e+00,  ..., -6.5858e-01,\n",
       "          2.8086e+00,  8.4681e-01],\n",
       "        [-5.0393e-01,  2.6000e+00,  5.0330e-01,  ...,  9.3350e-01,\n",
       "         -7.5619e-01,  3.7537e-01]])"
      ]
     },
     "execution_count": 22,
     "metadata": {},
     "output_type": "execute_result"
    }
   ],
   "source": [
    "v_of_T_serial[0:2000,:,0]"
   ]
  },
  {
   "cell_type": "code",
   "execution_count": 23,
   "id": "21384a55",
   "metadata": {},
   "outputs": [
    {
     "data": {
      "text/plain": [
       "tensor([[ 6.3987e-01, -3.6490e-01, -2.0718e-02,  ...,  9.5842e-01,\n",
       "         -1.1624e+00,  3.8418e-01],\n",
       "        [ 1.7670e+00, -6.1274e-01,  3.5758e-01,  ...,  1.8215e+00,\n",
       "          7.0035e-01, -1.6711e+00],\n",
       "        [-4.0962e-01, -6.3379e-01, -2.3351e-01,  ...,  2.1916e-01,\n",
       "          7.4374e-04,  1.2014e+00],\n",
       "        ...,\n",
       "        [ 5.8479e-01, -1.4565e-01, -1.7059e-01,  ...,  1.7420e+00,\n",
       "          9.7798e-02,  1.6235e-01],\n",
       "        [-5.3237e-01, -2.1945e+00,  1.7367e+00,  ..., -6.5858e-01,\n",
       "          2.8086e+00,  8.4681e-01],\n",
       "        [-5.0393e-01,  2.6000e+00,  5.0330e-01,  ...,  9.3350e-01,\n",
       "         -7.5619e-01,  3.7537e-01]])"
      ]
     },
     "execution_count": 23,
     "metadata": {},
     "output_type": "execute_result"
    }
   ],
   "source": [
    " v_of_T_block[:,:,0]"
   ]
  },
  {
   "cell_type": "code",
   "execution_count": 24,
   "id": "81f14623",
   "metadata": {},
   "outputs": [
    {
     "name": "stdout",
     "output_type": "stream",
     "text": [
      "[('nodes.J', Parameter containing:\n",
      "tensor([[0.1500],\n",
      "        [0.1500],\n",
      "        [0.1500],\n",
      "        [0.1500],\n",
      "        [0.1500],\n",
      "        [0.1500],\n",
      "        [0.1500],\n",
      "        [0.1500]], requires_grad=True))]\n"
     ]
    }
   ],
   "source": [
    "print(list(model.named_parameters()))"
   ]
  },
  {
   "cell_type": "code",
   "execution_count": 25,
   "id": "4b508bc0",
   "metadata": {},
   "outputs": [],
   "source": [
    "optimizer = torch.optim.Adam(model.parameters(), lr = 0.1)"
   ]
  },
  {
   "cell_type": "code",
   "execution_count": 26,
   "id": "441b3f40",
   "metadata": {},
   "outputs": [
    {
     "data": {
      "text/plain": [
       "torch.Size([8, 6, 5])"
      ]
     },
     "execution_count": 26,
     "metadata": {},
     "output_type": "execute_result"
    }
   ],
   "source": [
    "model.next_start_state.shape"
   ]
  },
  {
   "cell_type": "code",
   "execution_count": 27,
   "id": "9925a92c",
   "metadata": {},
   "outputs": [],
   "source": [
    "firstIC = model.next_start_state[:,:,(sim_dim-2):(sim_dim - 1)]\n",
    "model.next_start_state = firstIC"
   ]
  },
  {
   "cell_type": "code",
   "execution_count": 28,
   "id": "429fdda2",
   "metadata": {},
   "outputs": [
    {
     "data": {
      "text/plain": [
       "tensor([[[0.6000],\n",
       "         [0.1000],\n",
       "         [0.0000],\n",
       "         [2.4286],\n",
       "         [1.3283],\n",
       "         [0.6144]],\n",
       "\n",
       "        [[0.6000],\n",
       "         [0.1000],\n",
       "         [0.0000],\n",
       "         [2.4286],\n",
       "         [1.3283],\n",
       "         [0.6144]],\n",
       "\n",
       "        [[0.6000],\n",
       "         [0.1000],\n",
       "         [0.0000],\n",
       "         [2.4286],\n",
       "         [1.3283],\n",
       "         [0.6144]],\n",
       "\n",
       "        [[0.6000],\n",
       "         [0.1000],\n",
       "         [0.0000],\n",
       "         [2.4286],\n",
       "         [1.3283],\n",
       "         [0.6144]],\n",
       "\n",
       "        [[0.6000],\n",
       "         [0.1000],\n",
       "         [0.0000],\n",
       "         [2.4286],\n",
       "         [1.3283],\n",
       "         [0.6144]],\n",
       "\n",
       "        [[0.6000],\n",
       "         [0.1000],\n",
       "         [0.0000],\n",
       "         [2.4286],\n",
       "         [1.3283],\n",
       "         [0.6144]],\n",
       "\n",
       "        [[0.6000],\n",
       "         [0.1000],\n",
       "         [0.0000],\n",
       "         [2.4286],\n",
       "         [1.3283],\n",
       "         [0.6144]],\n",
       "\n",
       "        [[0.6000],\n",
       "         [0.1000],\n",
       "         [0.0000],\n",
       "         [2.4286],\n",
       "         [1.3283],\n",
       "         [0.6144]]])"
      ]
     },
     "execution_count": 28,
     "metadata": {},
     "output_type": "execute_result"
    }
   ],
   "source": [
    "model.nodes.num_dim = 1\n",
    "model.eeg.num_dim = 1\n",
    "model.bold.num_dim = 1\n",
    "model.next_start_state"
   ]
  },
  {
   "cell_type": "code",
   "execution_count": 29,
   "id": "8c9a7393",
   "metadata": {},
   "outputs": [
    {
     "name": "stdout",
     "output_type": "stream",
     "text": [
      "torch.Size([8, 2, 1])\n",
      "torch.Size([8, 4, 1])\n"
     ]
    }
   ],
   "source": [
    "node_history, EEG_history, BOLD_history = model.forward(sim_len*sim_dim, v_of_T_serial)\n",
    "node_history_Ser, EEG_history_Ser, BOLD_history_Ser = node_history.detach().numpy(), EEG_history.detach().numpy(), BOLD_history.detach().numpy()"
   ]
  },
  {
   "cell_type": "code",
   "execution_count": 30,
   "id": "d3fc54e9",
   "metadata": {},
   "outputs": [
    {
     "data": {
      "text/plain": [
       "tensor([[[0.8431],\n",
       "         [0.1089],\n",
       "         [0.1623],\n",
       "         [2.5190],\n",
       "         [1.3399],\n",
       "         [0.6108]],\n",
       "\n",
       "        [[0.8382],\n",
       "         [0.1095],\n",
       "         [0.1636],\n",
       "         [2.5207],\n",
       "         [1.3401],\n",
       "         [0.6107]],\n",
       "\n",
       "        [[0.8442],\n",
       "         [0.1050],\n",
       "         [0.1630],\n",
       "         [2.5210],\n",
       "         [1.3402],\n",
       "         [0.6107]],\n",
       "\n",
       "        [[0.8530],\n",
       "         [0.1135],\n",
       "         [0.1612],\n",
       "         [2.5189],\n",
       "         [1.3399],\n",
       "         [0.6108]],\n",
       "\n",
       "        [[0.8376],\n",
       "         [0.1097],\n",
       "         [0.1636],\n",
       "         [2.5204],\n",
       "         [1.3401],\n",
       "         [0.6107]],\n",
       "\n",
       "        [[0.8440],\n",
       "         [0.1105],\n",
       "         [0.1627],\n",
       "         [2.5198],\n",
       "         [1.3400],\n",
       "         [0.6107]],\n",
       "\n",
       "        [[0.8465],\n",
       "         [0.1102],\n",
       "         [0.1614],\n",
       "         [2.5192],\n",
       "         [1.3399],\n",
       "         [0.6107]],\n",
       "\n",
       "        [[0.8175],\n",
       "         [0.0991],\n",
       "         [0.1611],\n",
       "         [2.5190],\n",
       "         [1.3399],\n",
       "         [0.6108]]])"
      ]
     },
     "execution_count": 30,
     "metadata": {},
     "output_type": "execute_result"
    }
   ],
   "source": [
    "model.next_start_state"
   ]
  },
  {
   "cell_type": "code",
   "execution_count": 31,
   "id": "337de224",
   "metadata": {},
   "outputs": [
    {
     "data": {
      "text/plain": [
       "torch.Size([10000, 8, 2, 1])"
      ]
     },
     "execution_count": 31,
     "metadata": {},
     "output_type": "execute_result"
    }
   ],
   "source": [
    "node_history.shape"
   ]
  },
  {
   "cell_type": "code",
   "execution_count": 32,
   "id": "43a859c4",
   "metadata": {},
   "outputs": [
    {
     "data": {
      "text/plain": [
       "torch.Size([5, 8, 2, 1])"
      ]
     },
     "execution_count": 32,
     "metadata": {},
     "output_type": "execute_result"
    }
   ],
   "source": [
    "node_history[(int(sim_len/step_size)-1)::int(sim_len/step_size)].shape"
   ]
  },
  {
   "cell_type": "code",
   "execution_count": 33,
   "id": "1ee370cb",
   "metadata": {},
   "outputs": [],
   "source": [
    "node_IC = node_history[(int(sim_len/step_size)-1)::int(sim_len/step_size)]"
   ]
  },
  {
   "cell_type": "code",
   "execution_count": 34,
   "id": "fd09b1bf",
   "metadata": {},
   "outputs": [
    {
     "data": {
      "text/plain": [
       "torch.Size([10000, 8, 5, 1])"
      ]
     },
     "execution_count": 34,
     "metadata": {},
     "output_type": "execute_result"
    }
   ],
   "source": [
    "BOLD_history.shape"
   ]
  },
  {
   "cell_type": "code",
   "execution_count": 35,
   "id": "5477619c",
   "metadata": {},
   "outputs": [
    {
     "data": {
      "text/plain": [
       "torch.Size([5, 8, 4, 1])"
      ]
     },
     "execution_count": 35,
     "metadata": {},
     "output_type": "execute_result"
    }
   ],
   "source": [
    "BOLD_history[(int(sim_len/step_size)-1)::int(sim_len/step_size),:,0:4,:].shape"
   ]
  },
  {
   "cell_type": "code",
   "execution_count": 36,
   "id": "698371f0",
   "metadata": {},
   "outputs": [],
   "source": [
    "BOLD_IC = BOLD_history[(int(sim_len/step_size)-1)::int(sim_len/step_size),:,0:4,:]"
   ]
  },
  {
   "cell_type": "code",
   "execution_count": 37,
   "id": "2f07394c",
   "metadata": {},
   "outputs": [],
   "source": [
    "ICs = torch.cat((node_IC, BOLD_IC), dim = 2)"
   ]
  },
  {
   "cell_type": "code",
   "execution_count": 38,
   "id": "482196fa",
   "metadata": {},
   "outputs": [
    {
     "data": {
      "text/plain": [
       "torch.Size([5, 8, 6, 1])"
      ]
     },
     "execution_count": 38,
     "metadata": {},
     "output_type": "execute_result"
    }
   ],
   "source": [
    "ICs.shape"
   ]
  },
  {
   "cell_type": "code",
   "execution_count": 39,
   "id": "e026dd95",
   "metadata": {},
   "outputs": [],
   "source": [
    "ICs = torch.reshape(ICs.permute((1,2,3,0)), (8,6,sim_dim))"
   ]
  },
  {
   "cell_type": "code",
   "execution_count": 40,
   "id": "876a6c06",
   "metadata": {},
   "outputs": [
    {
     "data": {
      "text/plain": [
       "torch.Size([8, 6, 5])"
      ]
     },
     "execution_count": 40,
     "metadata": {},
     "output_type": "execute_result"
    }
   ],
   "source": [
    "ICs.shape"
   ]
  },
  {
   "cell_type": "code",
   "execution_count": 41,
   "id": "2fbbba74",
   "metadata": {},
   "outputs": [],
   "source": [
    "ICs = torch.cat((firstIC, ICs), dim = 2)"
   ]
  },
  {
   "cell_type": "code",
   "execution_count": 42,
   "id": "d3e8ce81",
   "metadata": {},
   "outputs": [
    {
     "data": {
      "text/plain": [
       "torch.Size([8, 6, 6])"
      ]
     },
     "execution_count": 42,
     "metadata": {},
     "output_type": "execute_result"
    }
   ],
   "source": [
    "ICs.shape"
   ]
  },
  {
   "cell_type": "code",
   "execution_count": 43,
   "id": "07eb71d4",
   "metadata": {},
   "outputs": [],
   "source": [
    "newICs = ICs[:,:,0:sim_dim]"
   ]
  },
  {
   "cell_type": "code",
   "execution_count": 44,
   "id": "7227d518",
   "metadata": {},
   "outputs": [
    {
     "data": {
      "text/plain": [
       "torch.Size([8, 6, 5])"
      ]
     },
     "execution_count": 44,
     "metadata": {},
     "output_type": "execute_result"
    }
   ],
   "source": [
    "newICs.shape"
   ]
  },
  {
   "cell_type": "code",
   "execution_count": 45,
   "id": "16b4ee28",
   "metadata": {},
   "outputs": [],
   "source": [
    "model.next_start_state = newICs\n",
    "model.nodes.num_dim = sim_dim\n",
    "model.eeg.num_dim = sim_dim\n",
    "model.bold.num_dim = sim_dim"
   ]
  },
  {
   "cell_type": "code",
   "execution_count": 46,
   "id": "87b492e6",
   "metadata": {},
   "outputs": [
    {
     "name": "stdout",
     "output_type": "stream",
     "text": [
      "torch.Size([8, 2, 5])\n",
      "torch.Size([8, 4, 5])\n"
     ]
    }
   ],
   "source": [
    "node_history, EEG_history, BOLD_history = model.forward(sim_len, v_of_T_block)"
   ]
  },
  {
   "cell_type": "code",
   "execution_count": 47,
   "id": "f5c94227",
   "metadata": {},
   "outputs": [
    {
     "data": {
      "text/plain": [
       "torch.Size([8, 6, 5])"
      ]
     },
     "execution_count": 47,
     "metadata": {},
     "output_type": "execute_result"
    }
   ],
   "source": [
    "model.next_start_state.shape"
   ]
  },
  {
   "cell_type": "code",
   "execution_count": 48,
   "id": "b3b4fcff",
   "metadata": {},
   "outputs": [],
   "source": [
    "node_history_Blk = serializeTS(node_history, num_regions, 2).detach().numpy()\n",
    "EEG_history_Blk = serializeTS(EEG_history, num_channels, 1).detach().numpy()\n",
    "BOLD_history_Blk = serializeTS(BOLD_history, num_regions, 4 + 1).detach().numpy()"
   ]
  },
  {
   "cell_type": "code",
   "execution_count": 49,
   "id": "be22257f",
   "metadata": {},
   "outputs": [
    {
     "data": {
      "text/plain": [
       "(10000, 8, 2)"
      ]
     },
     "execution_count": 49,
     "metadata": {},
     "output_type": "execute_result"
    }
   ],
   "source": [
    "node_history_Blk.shape"
   ]
  },
  {
   "cell_type": "code",
   "execution_count": 50,
   "id": "0fbeae66",
   "metadata": {},
   "outputs": [
    {
     "data": {
      "text/plain": [
       "[<matplotlib.lines.Line2D at 0x7f615b0195e0>,\n",
       " <matplotlib.lines.Line2D at 0x7f615b019610>,\n",
       " <matplotlib.lines.Line2D at 0x7f615b019730>,\n",
       " <matplotlib.lines.Line2D at 0x7f615b019850>,\n",
       " <matplotlib.lines.Line2D at 0x7f615b019970>,\n",
       " <matplotlib.lines.Line2D at 0x7f615b019a90>,\n",
       " <matplotlib.lines.Line2D at 0x7f615b019bb0>,\n",
       " <matplotlib.lines.Line2D at 0x7f615b019cd0>]"
      ]
     },
     "execution_count": 50,
     "metadata": {},
     "output_type": "execute_result"
    },
    {
     "data": {
      "image/png": "[encoded data removed]",
      "text/plain": [
       "<Figure size 1080x360 with 1 Axes>"
      ]
     },
     "metadata": {
      "needs_background": "light"
     },
     "output_type": "display_data"
    }
   ],
   "source": [
    "plt.figure(figsize = (15,5))\n",
    "plt.plot(node_history_Blk[:,:,0])"
   ]
  },
  {
   "cell_type": "code",
   "execution_count": 51,
   "id": "69113011",
   "metadata": {},
   "outputs": [
    {
     "data": {
      "text/plain": [
       "(10000, 8, 2, 1)"
      ]
     },
     "execution_count": 51,
     "metadata": {},
     "output_type": "execute_result"
    }
   ],
   "source": [
    "node_history_Ser.shape"
   ]
  },
  {
   "cell_type": "code",
   "execution_count": 52,
   "id": "ae8e6112",
   "metadata": {},
   "outputs": [
    {
     "data": {
      "text/plain": [
       "[<matplotlib.lines.Line2D at 0x7f6159368df0>,\n",
       " <matplotlib.lines.Line2D at 0x7f6159368e50>,\n",
       " <matplotlib.lines.Line2D at 0x7f6159368f70>,\n",
       " <matplotlib.lines.Line2D at 0x7f61593750d0>,\n",
       " <matplotlib.lines.Line2D at 0x7f61593751f0>,\n",
       " <matplotlib.lines.Line2D at 0x7f6159375310>,\n",
       " <matplotlib.lines.Line2D at 0x7f6159375430>,\n",
       " <matplotlib.lines.Line2D at 0x7f6159375550>]"
      ]
     },
     "execution_count": 52,
     "metadata": {},
     "output_type": "execute_result"
    },
    {
     "data": {
      "image/png": "[encoded data removed]",
      "text/plain": [
       "<Figure size 1080x360 with 1 Axes>"
      ]
     },
     "metadata": {
      "needs_background": "light"
     },
     "output_type": "display_data"
    }
   ],
   "source": [
    "plt.figure(figsize = (15,5))\n",
    "plt.plot(node_history_Ser[:,:,0,0])"
   ]
  },
  {
   "cell_type": "code",
   "execution_count": null,
   "id": "2e019941",
   "metadata": {},
   "outputs": [],
   "source": []
  },
  {
   "cell_type": "code",
   "execution_count": 53,
   "id": "1661f123",
   "metadata": {},
   "outputs": [
    {
     "data": {
      "text/plain": [
       "False"
      ]
     },
     "execution_count": 53,
     "metadata": {},
     "output_type": "execute_result"
    }
   ],
   "source": [
    "#Check - not valid until making the noise the same\n",
    "torch.equal(torch.cat((node_history[-1,:,:,-1], BOLD_history[-1,:,0:4,-1]), dim = 1), ICs[:,:,-1])"
   ]
  },
  {
   "cell_type": "code",
   "execution_count": 54,
   "id": "ad2814e7",
   "metadata": {},
   "outputs": [
    {
     "data": {
      "text/plain": [
       "tensor([[0.8431, 0.1089, 0.1623, 2.5190, 1.3399, 0.6108],\n",
       "        [0.8382, 0.1095, 0.1636, 2.5207, 1.3401, 0.6107],\n",
       "        [0.8442, 0.1050, 0.1630, 2.5210, 1.3402, 0.6107],\n",
       "        [0.8530, 0.1135, 0.1612, 2.5189, 1.3399, 0.6108],\n",
       "        [0.8376, 0.1097, 0.1636, 2.5204, 1.3401, 0.6107],\n",
       "        [0.8440, 0.1105, 0.1627, 2.5198, 1.3400, 0.6107],\n",
       "        [0.8465, 0.1102, 0.1614, 2.5192, 1.3399, 0.6107],\n",
       "        [0.8175, 0.0991, 0.1611, 2.5190, 1.3399, 0.6108]],\n",
       "       grad_fn=<CatBackward0>)"
      ]
     },
     "execution_count": 54,
     "metadata": {},
     "output_type": "execute_result"
    }
   ],
   "source": [
    "torch.cat((node_history[-1,:,:,-1], BOLD_history[-1,:,0:4,-1]), dim = 1)"
   ]
  },
  {
   "cell_type": "code",
   "execution_count": 55,
   "id": "0946ef8f",
   "metadata": {},
   "outputs": [
    {
     "data": {
      "text/plain": [
       "tensor([[0.8431, 0.1089, 0.1623, 2.5190, 1.3399, 0.6108],\n",
       "        [0.8382, 0.1095, 0.1636, 2.5207, 1.3401, 0.6107],\n",
       "        [0.8442, 0.1050, 0.1630, 2.5210, 1.3402, 0.6107],\n",
       "        [0.8530, 0.1135, 0.1612, 2.5189, 1.3399, 0.6108],\n",
       "        [0.8376, 0.1097, 0.1636, 2.5204, 1.3401, 0.6107],\n",
       "        [0.8440, 0.1105, 0.1627, 2.5198, 1.3400, 0.6107],\n",
       "        [0.8465, 0.1102, 0.1614, 2.5192, 1.3399, 0.6107],\n",
       "        [0.8175, 0.0991, 0.1611, 2.5190, 1.3399, 0.6108]],\n",
       "       grad_fn=<SelectBackward0>)"
      ]
     },
     "execution_count": 55,
     "metadata": {},
     "output_type": "execute_result"
    }
   ],
   "source": [
    " ICs[:,:,-1]"
   ]
  },
  {
   "cell_type": "code",
   "execution_count": 56,
   "id": "c32adfaf",
   "metadata": {},
   "outputs": [
    {
     "data": {
      "text/plain": [
       "tensor([[ 0.0000e+00,  0.0000e+00,  0.0000e+00,  0.0000e+00,  0.0000e+00,\n",
       "          0.0000e+00],\n",
       "        [ 0.0000e+00,  0.0000e+00,  0.0000e+00,  0.0000e+00,  0.0000e+00,\n",
       "          0.0000e+00],\n",
       "        [ 0.0000e+00,  0.0000e+00,  0.0000e+00,  0.0000e+00,  0.0000e+00,\n",
       "          0.0000e+00],\n",
       "        [ 0.0000e+00,  0.0000e+00, -1.4901e-08,  0.0000e+00,  0.0000e+00,\n",
       "          0.0000e+00],\n",
       "        [ 0.0000e+00,  0.0000e+00,  0.0000e+00,  0.0000e+00,  0.0000e+00,\n",
       "          0.0000e+00],\n",
       "        [ 0.0000e+00,  0.0000e+00,  0.0000e+00,  0.0000e+00,  0.0000e+00,\n",
       "          0.0000e+00],\n",
       "        [ 0.0000e+00,  0.0000e+00,  0.0000e+00,  0.0000e+00,  0.0000e+00,\n",
       "          0.0000e+00],\n",
       "        [ 0.0000e+00,  0.0000e+00,  0.0000e+00,  0.0000e+00,  0.0000e+00,\n",
       "          0.0000e+00]], grad_fn=<SubBackward0>)"
      ]
     },
     "execution_count": 56,
     "metadata": {},
     "output_type": "execute_result"
    }
   ],
   "source": [
    "torch.cat((node_history[-1,:,:,-1], BOLD_history[-1,:,0:4,-1]), dim = 1)- ICs[:,:,-1]"
   ]
  },
  {
   "cell_type": "code",
   "execution_count": null,
   "id": "258b5c28",
   "metadata": {},
   "outputs": [],
   "source": [
    "# Sometime it seems there are some very small machine error differences - those don't matter. "
   ]
  },
  {
   "cell_type": "code",
   "execution_count": null,
   "id": "766ef31c",
   "metadata": {},
   "outputs": [],
   "source": []
  },
  {
   "cell_type": "code",
   "execution_count": null,
   "id": "c8309f32",
   "metadata": {},
   "outputs": [],
   "source": []
  },
  {
   "cell_type": "code",
   "execution_count": 57,
   "id": "6d88e1a8",
   "metadata": {},
   "outputs": [
    {
     "ename": "NameError",
     "evalue": "name 'stop' is not defined",
     "output_type": "error",
     "traceback": [
      "\u001b[0;31m---------------------------------------------------------------------------\u001b[0m",
      "\u001b[0;31mNameError\u001b[0m                                 Traceback (most recent call last)",
      "Input \u001b[0;32mIn [57]\u001b[0m, in \u001b[0;36m<cell line: 1>\u001b[0;34m()\u001b[0m\n\u001b[0;32m----> 1\u001b[0m \u001b[43mstop\u001b[49m\n",
      "\u001b[0;31mNameError\u001b[0m: name 'stop' is not defined"
     ]
    }
   ],
   "source": [
    "stop"
   ]
  },
  {
   "cell_type": "code",
   "execution_count": null,
   "id": "92ee8d23",
   "metadata": {
    "scrolled": false
   },
   "outputs": [],
   "source": [
    "LossComp = list()\n",
    "\n",
    "J_values = list()\n",
    "\n",
    "epochs = 10\n",
    "\n",
    "for i in range(epochs):\n",
    "    print(i)\n",
    "    \n",
    "    # Forward in serial no gradients\n",
    "    # Purpose to get initial conditions\n",
    "    #\n",
    "    model.next_start_state = model.next_start_state[:,:,(sim_dim-2):(sim_dim - 1)]\n",
    "    model.nodes.num_dim = 1\n",
    "    model.eeg.num_dim = 1\n",
    "    model.bold.num_dim = 1\n",
    "    node_history, EEG_history, BOLD_history = model.forward()\n",
    "    \n",
    "    print(\"Serial Finished\")\n",
    "    \n",
    "    # Forward in \"Parallel\" with Gradients\n",
    "    # Using initial conditions acquired for serial run and with the same noise\n",
    "    #\n",
    "    model.next_start_state = newICs\n",
    "    model.nodes.num_dim = sim_dim\n",
    "    model.eeg.num_dim = sim_dim\n",
    "    model.bold.num_dim = sim_dim\n",
    "    node_history, EEG_history, BOLD_history = model.forward()\n",
    "    \n",
    "    node_history = serializeTS(node_history, 8, 2)\n",
    "    EEG_history = serializeTS(EEG_history, 8, 1)\n",
    "    BOLD_history = serializeTS(BOLD_history, 8, 4 + 1)\n",
    "    \n",
    "    print(\"Blocked Finished\")\n",
    "    \n",
    "    #\n",
    "    ## Run Backpropagaion through each time block (which have a missing connection between them)\n",
    "    #\n",
    "    totalLoss, lossComponents = TotalLossFn.calcTotalLoss(node_history[skip_trans:,:,:], EEG_history[skip_trans:,:,:], BOLD_history[skip_trans:,:,:], returnLossComponents = True)\n",
    "    print(\"totalLoss = \", totalLoss.item())\n",
    "    \n",
    "    optimizer.zero_grad()\n",
    "    totalLoss.backward()\n",
    "    optimizer.step()\n",
    "    \n",
    "    #\n",
    "    ## Tracking the performance over traning epochs\n",
    "    #\n",
    "    LossComp.append(lossComponents)\n",
    "    J_values.append(torch.flatten(model.nodes.J).detach().clone().numpy())\n",
    "    #print(\"J values = \", torch.flatten(model.nodes.J).detach().clone().numpy())\n",
    "    \n",
    "    # This is to reduce the max memory used by the program\n",
    "    if (i < (epochs - 1)):\n",
    "        node_history, EEG_history, BOLD_history = None, None, None\n"
   ]
  },
  {
   "cell_type": "code",
   "execution_count": null,
   "id": "de8bbab8",
   "metadata": {},
   "outputs": [],
   "source": [
    "plt.plot(LossComp)\n",
    "plt.title(\"Total Loss over Training Epochs\")"
   ]
  },
  {
   "cell_type": "code",
   "execution_count": null,
   "id": "f514602d",
   "metadata": {},
   "outputs": [],
   "source": [
    "plt.plot(J_values)\n",
    "plt.title(\"J_{i} Values Changing Over Training Epochs\")"
   ]
  },
  {
   "cell_type": "markdown",
   "id": "c7b96ffe",
   "metadata": {},
   "source": [
    "### Plots of S_E and S_I After Training"
   ]
  },
  {
   "cell_type": "code",
   "execution_count": null,
   "id": "8aad7f75",
   "metadata": {},
   "outputs": [],
   "source": [
    "plt.figure(figsize = (16, 8))\n",
    "plt.title(\"S_E and S_I\")\n",
    "for n in range(num_regions):\n",
    "    plt.plot(node_history.detach()[:,n,0], label = \"S_E Node = \" + str(n))\n",
    "    plt.plot(node_history.detach()[:,n,1], label = \"S_I Node = \" + str(n))\n",
    "\n",
    "plt.xlabel('Time Steps (multiply by step_size to get msec), step_size = ' + str(step_size))\n",
    "plt.legend()"
   ]
  },
  {
   "cell_type": "markdown",
   "id": "bf86c2d7",
   "metadata": {},
   "source": [
    "### Plots of EEG PSD"
   ]
  },
  {
   "cell_type": "code",
   "execution_count": null,
   "id": "6bc09fea",
   "metadata": {},
   "outputs": [],
   "source": [
    "sampleFreqHz = 1000*(1/step_size)\n",
    "sdAxis, sdValues = powerSpectrumLoss.calcPSD(EEG_history[skip_trans:,:,0], sampleFreqHz, minFreq = 2, maxFreq = 40)\n",
    "sdAxis_dS, sdValues_dS = powerSpectrumLoss.downSmoothPSD(sdAxis, sdValues, 32)\n",
    "sdAxis_dS, sdValues_dS_scaled = powerSpectrumLoss.scalePSD(sdAxis_dS, sdValues_dS)\n",
    "\n",
    "plt.figure()\n",
    "plt.plot(sdAxis_dS, sdValues_dS_scaled.detach())\n",
    "plt.xlabel('Hz')\n",
    "plt.ylabel('PSD')\n",
    "plt.title(\"Simulated EEG PSD: After Training\")"
   ]
  },
  {
   "cell_type": "markdown",
   "id": "7f78327c",
   "metadata": {},
   "source": [
    "### Plots of BOLD FC"
   ]
  },
  {
   "cell_type": "code",
   "execution_count": null,
   "id": "9690ba05",
   "metadata": {},
   "outputs": [],
   "source": [
    "print(BOLD_history[skip_trans:, :, 4].shape)\n",
    "sim_FC = functionalConnectivityLoss.calcFC(BOLD_history[:, :, 4]).detach()\n",
    "\n",
    "plt.figure(figsize = (8, 8))\n",
    "plt.title(\"Simulated BOLD FC: After Training\")\n",
    "mask = np.eye(num_regions)\n",
    "sns.heatmap(sim_FC, mask = mask, center=0, cmap='RdBu_r', vmin=-1.0, vmax = 1.0)"
   ]
  },
  {
   "cell_type": "code",
   "execution_count": null,
   "id": "e6f00e50",
   "metadata": {},
   "outputs": [],
   "source": []
  }
 ],
 "metadata": {
  "kernelspec": {
   "display_name": "Python 3 (ipykernel)",
   "language": "python",
   "name": "python3"
  },
  "language_info": {
   "codemirror_mode": {
    "name": "ipython",
    "version": 3
   },
   "file_extension": ".py",
   "mimetype": "text/x-python",
   "name": "python",
   "nbconvert_exporter": "python",
   "pygments_lexer": "ipython3",
   "version": "3.9.12"
  }
 },
 "nbformat": 4,
 "nbformat_minor": 5
}
